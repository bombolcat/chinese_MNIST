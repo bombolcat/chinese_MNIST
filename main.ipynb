{
 "cells": [
  {
   "cell_type": "code",
   "execution_count": 52,
   "metadata": {},
   "outputs": [],
   "source": [
    "import tensorflow as tf\n",
    "import cv2\n",
    "import os\n",
    "from tensorflow.keras import layers,models\n",
    "from sklearn.model_selection import train_test_split\n",
    "import pandas as pd\n",
    "import matplotlib.pyplot as plt\n",
    "import numpy as np"
   ]
  },
  {
   "cell_type": "code",
   "execution_count": 53,
   "metadata": {},
   "outputs": [
    {
     "data": {
      "text/html": [
       "<div>\n",
       "<style scoped>\n",
       "    .dataframe tbody tr th:only-of-type {\n",
       "        vertical-align: middle;\n",
       "    }\n",
       "\n",
       "    .dataframe tbody tr th {\n",
       "        vertical-align: top;\n",
       "    }\n",
       "\n",
       "    .dataframe thead th {\n",
       "        text-align: right;\n",
       "    }\n",
       "</style>\n",
       "<table border=\"1\" class=\"dataframe\">\n",
       "  <thead>\n",
       "    <tr style=\"text-align: right;\">\n",
       "      <th></th>\n",
       "      <th>suite_id</th>\n",
       "      <th>sample_id</th>\n",
       "      <th>code</th>\n",
       "      <th>value</th>\n",
       "      <th>character</th>\n",
       "    </tr>\n",
       "  </thead>\n",
       "  <tbody>\n",
       "    <tr>\n",
       "      <th>0</th>\n",
       "      <td>1</td>\n",
       "      <td>1</td>\n",
       "      <td>10</td>\n",
       "      <td>9</td>\n",
       "      <td>九</td>\n",
       "    </tr>\n",
       "    <tr>\n",
       "      <th>1</th>\n",
       "      <td>1</td>\n",
       "      <td>10</td>\n",
       "      <td>10</td>\n",
       "      <td>9</td>\n",
       "      <td>九</td>\n",
       "    </tr>\n",
       "    <tr>\n",
       "      <th>2</th>\n",
       "      <td>1</td>\n",
       "      <td>2</td>\n",
       "      <td>10</td>\n",
       "      <td>9</td>\n",
       "      <td>九</td>\n",
       "    </tr>\n",
       "    <tr>\n",
       "      <th>3</th>\n",
       "      <td>1</td>\n",
       "      <td>3</td>\n",
       "      <td>10</td>\n",
       "      <td>9</td>\n",
       "      <td>九</td>\n",
       "    </tr>\n",
       "    <tr>\n",
       "      <th>4</th>\n",
       "      <td>1</td>\n",
       "      <td>4</td>\n",
       "      <td>10</td>\n",
       "      <td>9</td>\n",
       "      <td>九</td>\n",
       "    </tr>\n",
       "  </tbody>\n",
       "</table>\n",
       "</div>"
      ],
      "text/plain": [
       "   suite_id  sample_id  code  value character\n",
       "0         1          1    10      9         九\n",
       "1         1         10    10      9         九\n",
       "2         1          2    10      9         九\n",
       "3         1          3    10      9         九\n",
       "4         1          4    10      9         九"
      ]
     },
     "execution_count": 53,
     "metadata": {},
     "output_type": "execute_result"
    }
   ],
   "source": [
    "df=pd.read_csv(\"chinese_mnist.csv\")\n",
    "df.head(5)"
   ]
  },
  {
   "cell_type": "code",
   "execution_count": 68,
   "metadata": {},
   "outputs": [],
   "source": [
    "class_names=df.character.unique()\n",
    "labels=[]\n",
    "data=np.zeros((df.shape[0],64,64,1))\n",
    "for i in range(df.shape[0]):\n",
    "    path=\"data\\data\\input_\"+str(df.loc[i,\"suite_id\"])+\"_\"+str(df.loc[i,\"sample_id\"])+\"_\"+str(df.loc[i,\"code\"])+\".jpg\"\n",
    "    img=cv2.imread(path)\n",
    "    img=cv2.cvtColor(img,cv2.COLOR_BGR2GRAY) \n",
    "    img=img/255.0\n",
    "    img=img.reshape(64,64,1)\n",
    "    labels.append(df.loc[i,\"character\"])\n",
    "    data[i,:,:]=img\n"
   ]
  },
  {
   "cell_type": "code",
   "execution_count": 76,
   "metadata": {},
   "outputs": [],
   "source": [
    "from tensorflow.keras.utils import to_categorical\n",
    "from sklearn.preprocessing import LabelEncoder\n",
    "\n",
    "label_encoder = LabelEncoder()\n",
    "int_labels = label_encoder.fit_transform(labels)\n",
    "# Convert integer labels to one-hot encoding\n",
    "encoded_labels = to_categorical(int_labels, num_classes=15)\n",
    "\n"
   ]
  },
  {
   "cell_type": "code",
   "execution_count": 77,
   "metadata": {},
   "outputs": [],
   "source": [
    "x_train,x_test,y_train,y_test=train_test_split(data,encoded_labels,test_size=0.2,random_state=42)"
   ]
  },
  {
   "cell_type": "code",
   "execution_count": 78,
   "metadata": {},
   "outputs": [
    {
     "name": "stdout",
     "output_type": "stream",
     "text": [
      "Model: \"sequential_11\"\n",
      "_________________________________________________________________\n",
      " Layer (type)                Output Shape              Param #   \n",
      "=================================================================\n",
      " conv2d_27 (Conv2D)          (None, 60, 60, 32)        832       \n",
      "                                                                 \n",
      " conv2d_28 (Conv2D)          (None, 58, 58, 64)        18496     \n",
      "                                                                 \n",
      " max_pooling2d_12 (MaxPooli  (None, 19, 19, 64)        0         \n",
      " ng2D)                                                           \n",
      "                                                                 \n",
      " conv2d_29 (Conv2D)          (None, 17, 17, 64)        36928     \n",
      "                                                                 \n",
      " conv2d_30 (Conv2D)          (None, 15, 15, 32)        18464     \n",
      "                                                                 \n",
      " max_pooling2d_13 (MaxPooli  (None, 5, 5, 32)          0         \n",
      " ng2D)                                                           \n",
      "                                                                 \n",
      " flatten_5 (Flatten)         (None, 800)               0         \n",
      "                                                                 \n",
      " dropout_5 (Dropout)         (None, 800)               0         \n",
      "                                                                 \n",
      " dense_15 (Dense)            (None, 80)                64080     \n",
      "                                                                 \n",
      " dense_16 (Dense)            (None, 50)                4050      \n",
      "                                                                 \n",
      " dense_17 (Dense)            (None, 15)                765       \n",
      "                                                                 \n",
      "=================================================================\n",
      "Total params: 143615 (561.00 KB)\n",
      "Trainable params: 143615 (561.00 KB)\n",
      "Non-trainable params: 0 (0.00 Byte)\n",
      "_________________________________________________________________\n"
     ]
    }
   ],
   "source": [
    "model=models.Sequential()\n",
    "model.add(layers.Conv2D(32,(5,5),activation='relu', input_shape=(64,64,1)))\n",
    "model.add(layers.Conv2D(64,(3,3),activation='relu'))\n",
    "model.add(layers.MaxPooling2D((3,3)))\n",
    "model.add(layers.Conv2D(64,(3,3),activation='relu'))\n",
    "model.add(layers.Conv2D(32,(3,3),activation='relu'))\n",
    "model.add(layers.MaxPooling2D((3,3)))\n",
    "model.add(layers.Flatten())\n",
    "model.add(layers.Dropout(0.25))\n",
    "model.add(layers.Dense(80,activation='relu'))\n",
    "model.add(layers.Dense(50,activation='relu'))\n",
    "model.add(layers.Dense(15,activation='softmax'))\n",
    "model.summary()"
   ]
  },
  {
   "cell_type": "code",
   "execution_count": 81,
   "metadata": {},
   "outputs": [
    {
     "name": "stdout",
     "output_type": "stream",
     "text": [
      "Epoch 1/11\n",
      "375/375 [==============================] - 117s 308ms/step - loss: 0.0672 - accuracy: 0.9791 - val_loss: 0.0758 - val_accuracy: 0.9773\n",
      "Epoch 2/11\n",
      "375/375 [==============================] - 116s 309ms/step - loss: 0.0419 - accuracy: 0.9874 - val_loss: 0.0612 - val_accuracy: 0.9807\n",
      "Epoch 3/11\n",
      "375/375 [==============================] - 118s 315ms/step - loss: 0.0424 - accuracy: 0.9861 - val_loss: 0.0576 - val_accuracy: 0.9833\n",
      "Epoch 4/11\n",
      "375/375 [==============================] - 116s 310ms/step - loss: 0.0423 - accuracy: 0.9858 - val_loss: 0.0245 - val_accuracy: 0.9943\n",
      "Epoch 5/11\n",
      "375/375 [==============================] - 116s 310ms/step - loss: 0.0328 - accuracy: 0.9897 - val_loss: 0.0302 - val_accuracy: 0.9930\n",
      "Epoch 6/11\n",
      "375/375 [==============================] - 115s 308ms/step - loss: 0.0298 - accuracy: 0.9908 - val_loss: 0.0226 - val_accuracy: 0.9933\n",
      "Epoch 7/11\n",
      "375/375 [==============================] - 116s 309ms/step - loss: 0.0192 - accuracy: 0.9940 - val_loss: 0.0376 - val_accuracy: 0.9883\n",
      "Epoch 8/11\n",
      "375/375 [==============================] - 117s 311ms/step - loss: 0.0243 - accuracy: 0.9918 - val_loss: 0.0771 - val_accuracy: 0.9813\n",
      "Epoch 9/11\n",
      "375/375 [==============================] - 618s 2s/step - loss: 0.0266 - accuracy: 0.9920 - val_loss: 0.0209 - val_accuracy: 0.9940\n",
      "Epoch 10/11\n",
      "375/375 [==============================] - 117s 313ms/step - loss: 0.0121 - accuracy: 0.9961 - val_loss: 0.0250 - val_accuracy: 0.9937\n",
      "Epoch 11/11\n",
      "375/375 [==============================] - 118s 314ms/step - loss: 0.0237 - accuracy: 0.9926 - val_loss: 0.0344 - val_accuracy: 0.9913\n"
     ]
    }
   ],
   "source": [
    "model.compile(optimizer='adam',\n",
    "              loss=\"categorical_crossentropy\",\n",
    "              metrics=['accuracy'])\n",
    "\n",
    "history = model.fit(x_train, y_train, epochs=11, \n",
    "    validation_data=(x_test, y_test)) "
   ]
  },
  {
   "cell_type": "code",
   "execution_count": 83,
   "metadata": {},
   "outputs": [
    {
     "name": "stdout",
     "output_type": "stream",
     "text": [
      "94/94 - 4s - loss: 0.0344 - accuracy: 0.9913 - 4s/epoch - 41ms/step\n"
     ]
    },
    {
     "data": {
      "image/png": "[encoded data removed]",
      "text/plain": [
       "<Figure size 640x480 with 1 Axes>"
      ]
     },
     "metadata": {},
     "output_type": "display_data"
    }
   ],
   "source": [
    "plt.plot(history.history['accuracy'], label='accuracy')\n",
    "plt.plot(history.history['val_accuracy'], label = 'val_accuracy')\n",
    "plt.xlabel('Epoch')\n",
    "plt.ylabel('Accuracy')\n",
    "plt.ylim([0.5, 1])\n",
    "plt.legend(loc='lower right')\n",
    "\n",
    "test_loss, test_acc = model.evaluate(x_test,  y_test, verbose=2)"
   ]
  },
  {
   "cell_type": "code",
   "execution_count": 84,
   "metadata": {},
   "outputs": [
    {
     "name": "stdout",
     "output_type": "stream",
     "text": [
      "0.9913333058357239\n"
     ]
    }
   ],
   "source": [
    "print(test_acc)"
   ]
  }
 ],
 "metadata": {
  "kernelspec": {
   "display_name": "Python 3",
   "language": "python",
   "name": "python3"
  },
  "language_info": {
   "codemirror_mode": {
    "name": "ipython",
    "version": 3
   },
   "file_extension": ".py",
   "mimetype": "text/x-python",
   "name": "python",
   "nbconvert_exporter": "python",
   "pygments_lexer": "ipython3",
   "version": "3.10.8"
  },
  "orig_nbformat": 4
 },
 "nbformat": 4,
 "nbformat_minor": 2
}
